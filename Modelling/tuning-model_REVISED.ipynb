{
 "cells": [
  {
   "cell_type": "markdown",
   "id": "51cbcf38",
   "metadata": {},
   "source": [
    "## Importing necessary libraries"
   ]
  },
  {
   "cell_type": "code",
   "execution_count": 1,
   "id": "b9e1bdc4",
   "metadata": {},
   "outputs": [],
   "source": [
    "import pandas as pd\n",
    "from sklearn.model_selection import train_test_split, GridSearchCV\n",
    "from sklearn.linear_model import LogisticRegression\n",
    "from sklearn.ensemble import RandomForestClassifier\n",
    "from sklearn.discriminant_analysis import QuadraticDiscriminantAnalysis\n",
    "from sklearn.metrics import accuracy_score, precision_score, recall_score, confusion_matrix, f1_score, classification_report\n",
    "import warnings \n",
    "warnings.filterwarnings('ignore')\n"
   ]
  },
  {
   "cell_type": "markdown",
   "id": "fab51979",
   "metadata": {},
   "source": [
    "## Loading dataset"
   ]
  },
  {
   "cell_type": "code",
   "execution_count": 2,
   "id": "381e9ad5",
   "metadata": {},
   "outputs": [],
   "source": [
    "data = pd.read_csv(\"data_pca_REVISED.csv\")"
   ]
  },
  {
   "cell_type": "markdown",
   "id": "b4a84b24",
   "metadata": {},
   "source": [
    "## Rebalancing dataset"
   ]
  },
  {
   "cell_type": "code",
   "execution_count": 3,
   "id": "cb0d4ff6",
   "metadata": {},
   "outputs": [
    {
     "data": {
      "text/plain": [
       "0    1260\n",
       "1     507\n",
       "Name: Popular, dtype: int64"
      ]
     },
     "execution_count": 3,
     "metadata": {},
     "output_type": "execute_result"
    }
   ],
   "source": [
    "data['Popular'].value_counts()"
   ]
  },
  {
   "cell_type": "markdown",
   "id": "7bf16c6a",
   "metadata": {},
   "source": [
    "## Splitting data to train and test splits"
   ]
  },
  {
   "cell_type": "code",
   "execution_count": 8,
   "id": "8e7e99eb",
   "metadata": {},
   "outputs": [],
   "source": [
    "X = data.drop(\"Popular\", axis=1)\n",
    "y = data[\"Popular\"]\n",
    "\n",
    "X_train, X_test, y_train, y_test = train_test_split(X, y, test_size=0.1, random_state=42)"
   ]
  },
  {
   "cell_type": "markdown",
   "id": "f2875370",
   "metadata": {},
   "source": [
    "## Applying grid search for logistic regression to maximize the F1 score"
   ]
  },
  {
   "cell_type": "code",
   "execution_count": 9,
   "id": "a148ae4b",
   "metadata": {},
   "outputs": [
    {
     "name": "stdout",
     "output_type": "stream",
     "text": [
      "Grid search in progress..\n",
      "Best parameters found for Logistic Regression: {'C': 0.0002, 'penalty': 'l2', 'solver': 'liblinear'}\n"
     ]
    }
   ],
   "source": [
    "logistic_model = LogisticRegression(random_state=42)\n",
    "param_grid_lr = {\n",
    "    'C': [0.0002, 0.001, 0.01, 0.1, 1, 10, 100],\n",
    "    'penalty': ['l1', 'l2'],\n",
    "    'solver': ['svd', 'liblinear', 'sag']\n",
    "}\n",
    "\n",
    "print('Grid search in progress..')\n",
    "grid_search_lr = GridSearchCV(logistic_model, param_grid=param_grid_lr, cv=5, scoring='f1')\n",
    "grid_search_lr.fit(X_train, y_train)\n",
    "print(\"Best parameters found for Logistic Regression:\", grid_search_lr.best_params_)\n"
   ]
  },
  {
   "cell_type": "markdown",
   "id": "d045e58a",
   "metadata": {},
   "source": [
    "## Evaluating performance of best logistic regression model found"
   ]
  },
  {
   "cell_type": "code",
   "execution_count": 10,
   "id": "a36eba15",
   "metadata": {},
   "outputs": [
    {
     "name": "stdout",
     "output_type": "stream",
     "text": [
      "                 Logistic regression                  \n",
      "------------------------------------------------------\n",
      "Confusion Matrix\n",
      "------------------------------------------------------\n",
      "          0 predictions  1 predictions\n",
      "actual 0             63             68\n",
      "actual 1             21             25\n",
      "------------------------------------------------------\n",
      "Classification report\n",
      "------------------------------------------------------\n",
      "              precision    recall  f1-score   support\n",
      "\n",
      "           0       0.75      0.48      0.59       131\n",
      "           1       0.27      0.54      0.36        46\n",
      "\n",
      "    accuracy                           0.50       177\n",
      "   macro avg       0.51      0.51      0.47       177\n",
      "weighted avg       0.62      0.50      0.53       177\n",
      "\n"
     ]
    }
   ],
   "source": [
    "y_pred_lr = grid_search_lr.best_estimator_.predict(X_test)\n",
    "conf_matrix_lr = confusion_matrix(y_test, y_pred_lr)\n",
    "classification_report_lr = classification_report(y_test, y_pred_lr)\n",
    "print(\"                 Logistic regression                  \")\n",
    "print('------------------------------------------------------')\n",
    "print(\"Confusion Matrix\")\n",
    "print('------------------------------------------------------')\n",
    "print(pd.DataFrame(conf_matrix_lr, index=['actual 0', 'actual 1'], columns=['0 predictions', '1 predictions']))\n",
    "print('------------------------------------------------------')\n",
    "print(\"Classification report\")\n",
    "print('------------------------------------------------------')\n",
    "print(classification_report_lr)"
   ]
  },
  {
   "cell_type": "markdown",
   "id": "fbe90b04",
   "metadata": {},
   "source": [
    "## Applying grid search for Random Forest to maximize the F1 score"
   ]
  },
  {
   "cell_type": "code",
   "execution_count": 11,
   "id": "96db4c56",
   "metadata": {},
   "outputs": [
    {
     "name": "stdout",
     "output_type": "stream",
     "text": [
      "Grid search in progress..\n",
      "Best parameters found for Random Forest: {'max_depth': 30, 'min_samples_leaf': 1, 'min_samples_split': 2, 'n_estimators': 50}\n"
     ]
    }
   ],
   "source": [
    "rf_model = RandomForestClassifier(random_state=42)\n",
    "param_grid_rf = param_dist = {\n",
    "    'n_estimators': [50,100,200,300],  \n",
    "    'max_depth': [10,20,30,None],      \n",
    "    'min_samples_split': list(range(2, 15,3)),     \n",
    "    'min_samples_leaf': list(range(1, 15,3)),  \n",
    "}\n",
    "\n",
    "print('Grid search in progress..')\n",
    "grid_search_rf = GridSearchCV(rf_model, param_grid=param_grid_rf, cv=5, scoring='f1')\n",
    "grid_search_rf.fit(X_train, y_train)\n",
    "print(\"Best parameters found for Random Forest:\", grid_search_rf.best_params_)"
   ]
  },
  {
   "cell_type": "markdown",
   "id": "56d6c1bc",
   "metadata": {},
   "source": [
    "## Evaluating performance of best Random Forest model found"
   ]
  },
  {
   "cell_type": "code",
   "execution_count": 12,
   "id": "244e50ce",
   "metadata": {},
   "outputs": [
    {
     "name": "stdout",
     "output_type": "stream",
     "text": [
      "                    Random forest                     \n",
      "------------------------------------------------------\n",
      "Confusion Matrix\n",
      "------------------------------------------------------\n",
      "          0 predictions  1 predictions\n",
      "actual 0            128              3\n",
      "actual 1             25             21\n",
      "------------------------------------------------------\n",
      "Classification report\n",
      "------------------------------------------------------\n",
      "              precision    recall  f1-score   support\n",
      "\n",
      "           0       0.84      0.98      0.90       131\n",
      "           1       0.88      0.46      0.60        46\n",
      "\n",
      "    accuracy                           0.84       177\n",
      "   macro avg       0.86      0.72      0.75       177\n",
      "weighted avg       0.85      0.84      0.82       177\n",
      "\n"
     ]
    }
   ],
   "source": [
    "y_pred_rf = grid_search_rf.best_estimator_.predict(X_test)\n",
    "conf_matrix_rf = confusion_matrix(y_test, y_pred_rf)\n",
    "classification_report_rf = classification_report(y_test, y_pred_rf)\n",
    "\n",
    "print('                    Random forest                     ')\n",
    "print('------------------------------------------------------')\n",
    "print(\"Confusion Matrix\",)\n",
    "print('------------------------------------------------------')\n",
    "print( pd.DataFrame(conf_matrix_rf, index=['actual 0', 'actual 1'], columns=['0 predictions', '1 predictions']))\n",
    "print('------------------------------------------------------')\n",
    "print(\"Classification report\")\n",
    "print('------------------------------------------------------')\n",
    "print(classification_report_rf)\n",
    "\n"
   ]
  },
  {
   "cell_type": "markdown",
   "id": "280667b6",
   "metadata": {},
   "source": [
    "## Applying randomized seacrch for neural network to maximize F1-score"
   ]
  },
  {
   "cell_type": "code",
   "execution_count": 13,
   "id": "84ab9600",
   "metadata": {},
   "outputs": [
    {
     "name": "stdout",
     "output_type": "stream",
     "text": [
      "Randomized search in progress..\n",
      "Fitting 5 folds for each of 15 candidates, totalling 75 fits\n",
      "Best parameters found for Multilayer Perceptron: {'solver': 'adam', 'learning_rate': 'adaptive', 'hidden_layer_sizes': (100,), 'alpha': 0.03, 'activation': 'relu'}\n"
     ]
    }
   ],
   "source": [
    "import numpy as np\n",
    "from sklearn.neural_network import MLPClassifier\n",
    "from sklearn.model_selection import RandomizedSearchCV\n",
    "\n",
    "\n",
    "nn_model = MLPClassifier(max_iter=100)\n",
    "param_dist = {\n",
    "    'hidden_layer_sizes': [(50,), (100,), (50, 50), (100, 50)],\n",
    "    'activation': ['logistic', 'relu'],\n",
    "    'solver': ['sgd', 'adam'],\n",
    "    'alpha': [0.000010  , 0.0005, 0.03, 1.5, 72 ,\n",
    "       3727, 193069, 10000000, 517947468],\n",
    "    'learning_rate': ['constant', 'invscaling', 'adaptive']\n",
    "}\n",
    "print('Randomized search in progress..')\n",
    "random_search_nn = RandomizedSearchCV(nn_model, param_distributions=param_dist, n_iter=15, cv=5, random_state=42, n_jobs=-1,verbose=2)\n",
    "random_search_nn.fit(X_train, y_train)\n",
    "print(\"Best parameters found for Multilayer Perceptron:\", random_search_nn.best_params_)\n",
    "\n"
   ]
  },
  {
   "cell_type": "markdown",
   "id": "04c9d686",
   "metadata": {},
   "source": [
    "## Evaluating performance of best neural network model found"
   ]
  },
  {
   "cell_type": "code",
   "execution_count": 14,
   "id": "6d0fde4f",
   "metadata": {},
   "outputs": [
    {
     "name": "stdout",
     "output_type": "stream",
     "text": [
      "                 Multilayer Perceptron                \n",
      "------------------------------------------------------\n",
      "Confusion Matrix\n",
      "------------------------------------------------------\n",
      "          0 predictions  1 predictions\n",
      "actual 0            108             23\n",
      "actual 1             21             25\n",
      "------------------------------------------------------\n",
      "Classification report\n",
      "------------------------------------------------------\n",
      "              precision    recall  f1-score   support\n",
      "\n",
      "           0       0.84      0.82      0.83       131\n",
      "           1       0.52      0.54      0.53        46\n",
      "\n",
      "    accuracy                           0.75       177\n",
      "   macro avg       0.68      0.68      0.68       177\n",
      "weighted avg       0.75      0.75      0.75       177\n",
      "\n"
     ]
    }
   ],
   "source": [
    "y_pred_nn = random_search_nn.best_estimator_.predict(X_test)\n",
    "conf_matrix_nn = confusion_matrix(y_test, y_pred_nn)\n",
    "classification_report_nn = classification_report(y_test, y_pred_nn)\n",
    "\n",
    "print('                 Multilayer Perceptron                ')\n",
    "print('------------------------------------------------------')\n",
    "print(\"Confusion Matrix\",)\n",
    "print('------------------------------------------------------')\n",
    "print( pd.DataFrame(conf_matrix_nn, index=['actual 0', 'actual 1'], columns=['0 predictions', '1 predictions']))\n",
    "print('------------------------------------------------------')\n",
    "print(\"Classification report\")\n",
    "print('------------------------------------------------------')\n",
    "print(classification_report_nn)\n",
    "\n"
   ]
  },
  {
   "cell_type": "markdown",
   "id": "ee4e3a92",
   "metadata": {},
   "source": [
    "## Applying grid seacrch for QDA to maximize F1-score"
   ]
  },
  {
   "cell_type": "code",
   "execution_count": 15,
   "id": "2410bdd3",
   "metadata": {},
   "outputs": [
    {
     "name": "stdout",
     "output_type": "stream",
     "text": [
      "Grid search in progress..\n",
      "Best parameters found for Quadratic Discriminant Analysis: {'priors': [0.3, 0.7], 'reg_param': 0.3, 'store_covariance': True, 'tol': 0.0001}\n"
     ]
    }
   ],
   "source": [
    "qda = QuadraticDiscriminantAnalysis()\n",
    "\n",
    "param_grid_qda = {\n",
    "    'reg_param': [0.0, 0.1, 0.2, 0.3, 0.4, 0.5],\n",
    "    'store_covariance': [True, False],\n",
    "    'priors': [None, [0.4, 0.6], [0.3, 0.7]],\n",
    "    'tol': [1e-4, 1e-3, 1e-2]\n",
    "}\n",
    "\n",
    "\n",
    "print('Grid search in progress..')\n",
    "grid_search_qda = GridSearchCV(qda, param_grid=param_grid_qda, cv=5, scoring='f1')\n",
    "grid_search_qda.fit(X_train, y_train)\n",
    "print(\"Best parameters found for Quadratic Discriminant Analysis:\", grid_search_qda.best_params_)\n",
    "\n"
   ]
  },
  {
   "cell_type": "markdown",
   "id": "7f889d90",
   "metadata": {},
   "source": [
    "## Evaluating performance of best QDA model found"
   ]
  },
  {
   "cell_type": "code",
   "execution_count": 16,
   "id": "608a0cef",
   "metadata": {},
   "outputs": [
    {
     "name": "stdout",
     "output_type": "stream",
     "text": [
      "           Quadratic Discriminant Analysis            \n",
      "------------------------------------------------------\n",
      "Confusion Matrix\n",
      "------------------------------------------------------\n",
      "          0 predictions  1 predictions\n",
      "actual 0            115             16\n",
      "actual 1             25             21\n",
      "------------------------------------------------------\n",
      "Classification report\n",
      "------------------------------------------------------\n",
      "              precision    recall  f1-score   support\n",
      "\n",
      "           0       0.82      0.88      0.85       131\n",
      "           1       0.57      0.46      0.51        46\n",
      "\n",
      "    accuracy                           0.77       177\n",
      "   macro avg       0.69      0.67      0.68       177\n",
      "weighted avg       0.76      0.77      0.76       177\n",
      "\n"
     ]
    }
   ],
   "source": [
    "y_pred_qda = grid_search_qda.best_estimator_.predict(X_test)\n",
    "conf_matrix_qda = confusion_matrix(y_test, y_pred_qda)\n",
    "classification_report_qda = classification_report(y_test, y_pred_qda)\n",
    "\n",
    "print('           Quadratic Discriminant Analysis            ')\n",
    "print('------------------------------------------------------')\n",
    "print(\"Confusion Matrix\",)\n",
    "print('------------------------------------------------------')\n",
    "print( pd.DataFrame(conf_matrix_qda, index=['actual 0', 'actual 1'], columns=['0 predictions', '1 predictions']))\n",
    "print('------------------------------------------------------')\n",
    "print(\"Classification report\")\n",
    "print('------------------------------------------------------')\n",
    "print(classification_report_qda)\n",
    "\n"
   ]
  },
  {
   "cell_type": "code",
   "execution_count": null,
   "id": "6b10526f",
   "metadata": {},
   "outputs": [],
   "source": []
  }
 ],
 "metadata": {
  "kernelspec": {
   "display_name": "Python 3 (ipykernel)",
   "language": "python",
   "name": "python3"
  },
  "language_info": {
   "codemirror_mode": {
    "name": "ipython",
    "version": 3
   },
   "file_extension": ".py",
   "mimetype": "text/x-python",
   "name": "python",
   "nbconvert_exporter": "python",
   "pygments_lexer": "ipython3",
   "version": "3.9.7"
  }
 },
 "nbformat": 4,
 "nbformat_minor": 5
}
